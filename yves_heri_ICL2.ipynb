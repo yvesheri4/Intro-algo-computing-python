{
 "cells": [
  {
   "cell_type": "markdown",
   "id": "856ccd95",
   "metadata": {},
   "source": [
    "# Introduction to Computing\n",
    "\n",
    "### Yves HERI\n",
    "\n",
    "#### AIMS Rwanda"
   ]
  },
  {
   "cell_type": "markdown",
   "id": "d11989d7",
   "metadata": {},
   "source": [
    "___"
   ]
  },
  {
   "cell_type": "markdown",
   "id": "30f56b0b",
   "metadata": {},
   "source": [
    "This notebook contains codes for a first course in Algorithmic and Computing with Python given at AIMS Rwanda in 2021"
   ]
  },
  {
   "cell_type": "markdown",
   "id": "22767c13",
   "metadata": {},
   "source": [
    "___"
   ]
  },
  {
   "cell_type": "markdown",
   "id": "cd49762b",
   "metadata": {},
   "source": [
    "## 1. Algorithm for average\n",
    "\n",
    "Write an algorithm that will ask the user for 10 numbers and then prints their average.\n"
   ]
  },
  {
   "cell_type": "code",
   "execution_count": 1,
   "id": "9e53484e",
   "metadata": {},
   "outputs": [
    {
     "name": "stdout",
     "output_type": "stream",
     "text": [
      "Enter a number : 5\n",
      "Enter a number : 5\n",
      "Enter a number : 7\n",
      "Enter a number : 8\n",
      "Enter a number : 6\n",
      "Enter a number : 95\n",
      "Enter a number : 41\n",
      "Enter a number : 58\n",
      "Enter a number : 45\n",
      "Enter a number : 56\n",
      "The average is  32.6\n"
     ]
    }
   ],
   "source": [
    "Sum=0\n",
    "for i in range(10)  :\n",
    "    a=int(input(\"Enter a number : \"))\n",
    "    Sum=Sum+a\n",
    "Average=Sum/10\n",
    "print(\"The average is \",Average)\n"
   ]
  },
  {
   "cell_type": "markdown",
   "id": "35d4d4e5",
   "metadata": {},
   "source": [
    "## 2. Algorithm for factorial\n",
    "\n",
    "Write an algorithm that asks the user to enter a positive integer n, computes and print its\n",
    "factorial given by n! = 1 × 2 × . . . × n.\n"
   ]
  },
  {
   "cell_type": "code",
   "execution_count": 2,
   "id": "a78491c3",
   "metadata": {},
   "outputs": [
    {
     "name": "stdout",
     "output_type": "stream",
     "text": [
      "Enter a positive number: 8\n",
      "8 ! is 40320\n"
     ]
    }
   ],
   "source": [
    "n=int(input('Enter a positive number: '))\n",
    "if n==0:\n",
    "    print(\"0 ! is 1\")\n",
    "else:\n",
    "    Fact=1\n",
    "    for i in range(n):\n",
    "        Fact=Fact*(i+1)\n",
    "    print(n,'! is',Fact)"
   ]
  },
  {
   "cell_type": "markdown",
   "id": "c3c188f5",
   "metadata": {},
   "source": [
    "## 3. Algorithm Squares counting\n",
    "\n",
    "Write a an algorithm that asks the user to input a positive integer n and counts how many of\n",
    "the squares of the integers from 1 to n end in a 1."
   ]
  },
  {
   "cell_type": "code",
   "execution_count": 3,
   "id": "a1ca5ce7",
   "metadata": {},
   "outputs": [
    {
     "name": "stdout",
     "output_type": "stream",
     "text": [
      "Enter a positive number :10\n",
      "The number of squares ending with 1 is 2\n"
     ]
    }
   ],
   "source": [
    "n=int(input(\"Enter a positive number :\"))\n",
    "Number=0\n",
    "for i in range(n+1):\n",
    "    if (i**2 % 10) == 1:\n",
    "        Number=Number+1\n",
    "print('The number of squares ending with 1 is',Number)\n",
    "       "
   ]
  },
  {
   "cell_type": "markdown",
   "id": "4fdb4d37",
   "metadata": {},
   "source": [
    "## 4. Algorithm squares counting 2\n",
    "\n",
    "Write a an algorithm that asks the user to input a positive integer n and  counts how many of the squares of the integers from 1 to n end in a 1.Write a an algorithm that asks the user to input a positive integer n and counts how many of the squares of the integers from 1 to n end in a 4 and how many end in a 9."
   ]
  },
  {
   "cell_type": "code",
   "execution_count": 4,
   "id": "25fbf47f",
   "metadata": {},
   "outputs": [
    {
     "name": "stdout",
     "output_type": "stream",
     "text": [
      "Enter a positive number :10\n",
      "The number of squares endind with 4 is 2\n",
      "The number of squares endind with 9 is 2\n"
     ]
    }
   ],
   "source": [
    "n=int(input(\"Enter a positive number :\"))\n",
    "Number4=0\n",
    "Number9=0\n",
    "for i in range(n+1):\n",
    "    if (i**2 % 10) ==4:\n",
    "        Number4=Number4+1\n",
    "    elif(i**2 % 10) ==9:\n",
    "        Number9=Number9+1\n",
    "print('The number of squares endind with 4 is',Number4)\n",
    "print('The number of squares endind with 9 is',Number9)"
   ]
  },
  {
   "cell_type": "markdown",
   "id": "30389550",
   "metadata": {},
   "source": [
    "## 5. Algorithm Compute $A_n$\n",
    "\n",
    "Write an algorithm that asks the user to enter a positive integer n, and then computes\n",
    "\n",
    "\\begin{equation}\n",
    "A_n = \\left(1 + \\frac{1}{2}+\\frac{1}{3}+\\frac{1}{4}+\\dots+\\frac{1}{n}\\right)\n",
    "− \\ln{n}\n",
    "\\end{equation}"
   ]
  },
  {
   "cell_type": "code",
   "execution_count": 5,
   "id": "213111ef",
   "metadata": {},
   "outputs": [
    {
     "name": "stdout",
     "output_type": "stream",
     "text": [
      "Enter a positive number :5\n",
      "An is equal to 0.6738954208992329\n"
     ]
    }
   ],
   "source": [
    "import math\n",
    "\n",
    "n=int(input('Enter a positive number :'))\n",
    "Bn=0\n",
    "for i in range(n):\n",
    "    Bn=Bn+1/(i+1)\n",
    "An=Bn-math.log(n)\n",
    "print('An is equal to',An)\n"
   ]
  },
  {
   "cell_type": "markdown",
   "id": "f970da82",
   "metadata": {},
   "source": [
    "## 6. Algorithm Compute $B_n$\n",
    "\n",
    "Write an algorithm that asks the user to enter a positive integer n, and then computes\n",
    "\n",
    "\\begin{equation}\n",
    "B_n = 1 - 2 + 3 - 4 + \\dots + (2n-1) - 2n\n",
    "\\end{equation}"
   ]
  },
  {
   "cell_type": "code",
   "execution_count": 6,
   "id": "f435e6e3",
   "metadata": {},
   "outputs": [
    {
     "name": "stdout",
     "output_type": "stream",
     "text": [
      "Enter a positive number :9\n",
      "Bn is equal to -9\n"
     ]
    }
   ],
   "source": [
    "### Wrong !!! To simplified :)\n",
    "\n",
    "n=int(input('Enter a positive number :'))\n",
    "print('Bn is equal to',-n)"
   ]
  },
  {
   "cell_type": "markdown",
   "id": "ce9b149b",
   "metadata": {},
   "source": [
    "## 7. Algorithm The largest number\n",
    "\n",
    "Write an algorithm that asks the user to enter 10 numbers and then prints the largest one."
   ]
  },
  {
   "cell_type": "code",
   "execution_count": 7,
   "id": "569d0c2d",
   "metadata": {},
   "outputs": [
    {
     "name": "stdout",
     "output_type": "stream",
     "text": [
      "Enter a number: 5\n",
      "Enter a number: 9\n",
      "Enter a number: 4\n",
      "Enter a number: 9\n",
      "Enter a number: 66\n",
      "Enter a number: 25\n",
      "Enter a number: 8\n",
      "Enter a number: 6\n",
      "Enter a number: 63\n",
      "Enter a number: 1\n",
      "The largest number is :  66\n"
     ]
    }
   ],
   "source": [
    "Largest=0\n",
    "for i in range(10):\n",
    "    a=int(input('Enter a number: '))\n",
    "    if a>=Largest:\n",
    "        Largest=a\n",
    "print('The largest number is : ',Largest)"
   ]
  },
  {
   "cell_type": "markdown",
   "id": "d94cf273",
   "metadata": {},
   "source": [
    "## 8.  Algorithm Sum of divisors\n",
    "\n",
    "Write an algorithm that asks the user to enter a positive integer n and prints the sum of the\n",
    "divisors of n.\n"
   ]
  },
  {
   "cell_type": "code",
   "execution_count": 8,
   "id": "1f1e7778",
   "metadata": {},
   "outputs": [
    {
     "name": "stdout",
     "output_type": "stream",
     "text": [
      "Enter a positive number :10\n",
      "The sum of divisors of 10  is  18\n"
     ]
    }
   ],
   "source": [
    "n=int(input('Enter a positive number :'))\n",
    "Sum=0\n",
    "for i in range(n):\n",
    "    if n%(i+1)==0:\n",
    "        Sum=Sum+(i+1)\n",
    "print('The sum of divisors of',n,' is ',Sum)"
   ]
  },
  {
   "cell_type": "markdown",
   "id": "98838c54",
   "metadata": {},
   "source": [
    "## 9. Algorithm Perfect numbers\n",
    "\n",
    "A number is called a perfect number if it is equal to the sum of all of its divisors, not including the number itself. Write an algorithm that asks the user to enter a positive integer n and prints all the perfect numbers that are less than n."
   ]
  },
  {
   "cell_type": "code",
   "execution_count": 10,
   "id": "5fdf9c77",
   "metadata": {},
   "outputs": [
    {
     "name": "stdout",
     "output_type": "stream",
     "text": [
      "Enter a positive number :8\n",
      "8  is not perfect number\n"
     ]
    }
   ],
   "source": [
    "n=int(input('Enter a positive number :'))\n",
    "Sum=0\n",
    "for i in range(int(n/2)):\n",
    "    if n%(i+1)==0:\n",
    "        Sum=Sum+(i+1)\n",
    "if n==Sum:\n",
    "    print(n,' is a perfect number')\n",
    "else:\n",
    "    print(n,' is not perfect number')"
   ]
  },
  {
   "cell_type": "markdown",
   "id": "99f8374d",
   "metadata": {},
   "source": [
    "## 10. Algorithm Square free\n",
    "\n",
    "An integer is called squarefree if it is not divisible by any perfect squares other than 1. Write an algorithm that asks the user to enter a positive integer n and tells them if it is squarefree or not."
   ]
  },
  {
   "cell_type": "code",
   "execution_count": 12,
   "id": "bf8a91e3",
   "metadata": {},
   "outputs": [
    {
     "name": "stdout",
     "output_type": "stream",
     "text": [
      "Enter a positive number :28\n",
      "28  is not a square free number\n"
     ]
    }
   ],
   "source": [
    "n=int(input('Enter a positive number :'))\n",
    "squareF = 1\n",
    "for i in range(2,n-1):\n",
    "    if n%(i**2)==0:\n",
    "        squareF=0\n",
    "if squareF==1:\n",
    "    print(n,' is a square free number')\n",
    "else:\n",
    "    print(n,' is not a square free number')\n"
   ]
  },
  {
   "cell_type": "markdown",
   "id": "27965af3",
   "metadata": {},
   "source": [
    "## 11.  Algorithm Prime number\n",
    "\n",
    "Write an algorithm that asks the user to enter a positive integer n and tells if n is a prime\n",
    "number or not"
   ]
  },
  {
   "cell_type": "code",
   "execution_count": 16,
   "id": "1e2f962f",
   "metadata": {},
   "outputs": [
    {
     "name": "stdout",
     "output_type": "stream",
     "text": [
      "Enter a positive number :23\n",
      "23  is a prime number\n"
     ]
    }
   ],
   "source": [
    "prime=1\n",
    "n=int(input('Enter a positive number :'))\n",
    "for i in range(2,n-1):\n",
    "    if n%i==0:\n",
    "        prime=0\n",
    "if prime==1:\n",
    "    print(n,' is a prime number')\n",
    "else:\n",
    "    print(n,' is not a prime number')\n",
    "    "
   ]
  },
  {
   "cell_type": "markdown",
   "id": "2ec28fe4",
   "metadata": {},
   "source": [
    "## 12. Algorithm Swap three variables\n",
    "\n",
    "Write an algorithm that swaps the values of three variables x, y, and z input by the user, so that x gets the value of y, y gets the value of z, and z gets the value of x."
   ]
  },
  {
   "cell_type": "code",
   "execution_count": 17,
   "id": "78d939e0",
   "metadata": {
    "scrolled": true
   },
   "outputs": [
    {
     "name": "stdout",
     "output_type": "stream",
     "text": [
      "Enter x :6\n",
      "Enter y :5\n",
      "Enter z :4\n",
      "Now the value of x is  5\n",
      "Now the value of y is  4\n",
      "Now the value of z is  6\n"
     ]
    }
   ],
   "source": [
    "#Algo 12 : Swap three variables\n",
    "\n",
    "x=int(input('Enter x :'))\n",
    "y=int(input('Enter y :'))\n",
    "z=int(input('Enter z :'))\n",
    "temp=x\n",
    "x=y\n",
    "y=z\n",
    "z=temp\n",
    "print('Now the value of x is ',x)\n",
    "print('Now the value of y is ',y)\n",
    "print('Now the value of z is ',z)"
   ]
  },
  {
   "cell_type": "markdown",
   "id": "fb42d3f3",
   "metadata": {},
   "source": [
    "## 13. Algorithm Perfect Square, Cube and Fith\n",
    "\n",
    "Write an algorithm to count how many integers from 1 to n (where n is inputted by the user) are not perfect squares, perfect cubes, or perfect fifth powers."
   ]
  },
  {
   "cell_type": "code",
   "execution_count": 18,
   "id": "061f6f76",
   "metadata": {
    "scrolled": true
   },
   "outputs": [
    {
     "name": "stdout",
     "output_type": "stream",
     "text": [
      "Enter a positive number :9\n",
      "There are  5  non perfect powers\n"
     ]
    }
   ],
   "source": [
    "n=int(input('Enter a positive number :'))\n",
    "Np=0\n",
    "for i in range(1,n+1):\n",
    "    for j in range(1,i+1):\n",
    "        if (i==j**2) or (i==j**3) or (i==j**5):\n",
    "            Np=Np+1\n",
    "Nnp=n-Np\n",
    "print('There are ',Nnp,' non perfect powers')"
   ]
  },
  {
   "cell_type": "markdown",
   "id": "2ae2f154",
   "metadata": {},
   "source": [
    "## 14. Algorithm Test scores"
   ]
  },
  {
   "cell_type": "code",
   "execution_count": 21,
   "id": "5e6f01ea",
   "metadata": {},
   "outputs": [
    {
     "name": "stdout",
     "output_type": "stream",
     "text": [
      "Enter a score :2\n",
      "Enter a score :0\n",
      "Enter a score :25\n",
      "Enter a score :3\n",
      "Enter a score :5\n",
      "Enter a score :55\n",
      "Enter a score :3\n",
      "Enter a score :1\n",
      "Enter a score :5\n",
      "Enter a score :3\n",
      "The maximum is  55  and the minmum is  2\n",
      "The average is  10.2\n",
      "Warning a value over 100 has been entered\n",
      "The new average is  2.75\n"
     ]
    }
   ],
   "source": [
    "Max1 = 0\n",
    "Max2 = 0\n",
    "Min = 100\n",
    "S = 0\n",
    "G100 = 0\n",
    "for i in range(10):\n",
    "    a=int(input('Enter a score :'))\n",
    "    if a < 100:\n",
    "        G100 = 1\n",
    "        if a > Max1:\n",
    "            Max2 = Max1\n",
    "            Max1 = a\n",
    "            if a < Min:\n",
    "                Min = a\n",
    "        elif a > Max2 and a < Max1:\n",
    "            Max2=a\n",
    "            if a < Min:\n",
    "                Min = a\n",
    "    else:\n",
    "        if a > Max1:\n",
    "            Max2 = Max1\n",
    "            Max1 = a\n",
    "            if a < Min:\n",
    "                Min = a\n",
    "        elif a > Max2 and a < Max1:\n",
    "            Max2 = a\n",
    "            if a < Min:\n",
    "                Min = a\n",
    "    S=S+a\n",
    "print('The maximum is ',Max1,' and the minmum is ',Min)\n",
    "Average=S/10\n",
    "print('The average is ',Average)\n",
    "if G100==1:\n",
    "    print('Warning a value over 100 has been entered')\n",
    "NewAverage=(S-Max1-Max2)/8\n",
    "print('The new average is ',NewAverage)"
   ]
  },
  {
   "cell_type": "markdown",
   "id": "682f6e2f",
   "metadata": {},
   "source": [
    "## 15. Algorithm Leap year\n",
    "\n",
    "### 1. \n",
    "\n",
    "Write a algorithm that asks the user for a year and prints out whether it is a leap year or not.\n",
    "\n",
    "### 2. \n",
    "\n",
    "Write a algorithm that asks the user for a two different years n, m and prints how many\n",
    "leap years are between year n and m.\n"
   ]
  },
  {
   "cell_type": "code",
   "execution_count": 22,
   "id": "652b5c5d",
   "metadata": {},
   "outputs": [
    {
     "name": "stdout",
     "output_type": "stream",
     "text": [
      "Enter the year :2016\n",
      "2016  is a leap year\n"
     ]
    }
   ],
   "source": [
    "#Algo 15 : Leap Year (Part 1)\n",
    "\n",
    "year=int(input('Enter the year :'))\n",
    "if (year%4==0 and year%100!=0)or(year%400==0):\n",
    "    print(year, ' is a leap year')\n",
    "else:\n",
    "    print(year, ' is not leap year')"
   ]
  },
  {
   "cell_type": "code",
   "execution_count": 23,
   "id": "5dd358cf",
   "metadata": {},
   "outputs": [
    {
     "name": "stdout",
     "output_type": "stream",
     "text": [
      "Enter the first year :2012\n",
      "Enter the second year :2024\n",
      "There are  4  leap years\n"
     ]
    }
   ],
   "source": [
    "#Algo 15 : Leap Year (Part 2)\n",
    "\n",
    "n=int(input('Enter the first year :'))\n",
    "m=int(input('Enter the second year :'))\n",
    "Number=0\n",
    "for i in range(n,m+1):\n",
    "    if (i%4==0 and i%100!=0)or(i%400==0):\n",
    "        Number=Number+1\n",
    "print('There are ',Number,' leap years')"
   ]
  }
 ],
 "metadata": {
  "kernelspec": {
   "display_name": "Python 3 (ipykernel)",
   "language": "python",
   "name": "python3"
  },
  "language_info": {
   "codemirror_mode": {
    "name": "ipython",
    "version": 3
   },
   "file_extension": ".py",
   "mimetype": "text/x-python",
   "name": "python",
   "nbconvert_exporter": "python",
   "pygments_lexer": "ipython3",
   "version": "3.8.16"
  }
 },
 "nbformat": 4,
 "nbformat_minor": 5
}
